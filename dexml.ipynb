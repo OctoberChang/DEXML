{
  "cells": [
    {
      "cell_type": "markdown",
      "metadata": {},
      "source": [
        "# DEXML - Dual-encoders for Extreme Multi-label Classification"
      ]
    },
    {
      "cell_type": "markdown",
      "metadata": {},
      "source": [
        "## Download and install requirements (for colab)"
      ]
    },
    {
      "cell_type": "code",
      "execution_count": null,
      "metadata": {
        "colab": {
          "base_uri": "https://localhost:8080/"
        },
        "id": "oKs2fA9Yk9Mi",
        "outputId": "3eb82ecb-cc3b-4f50-91cb-d80379d406d2"
      },
      "outputs": [
        {
          "name": "stdout",
          "output_type": "stream",
          "text": [
            "Cloning into 'dexml'...\n",
            "remote: Enumerating objects: 58, done.\u001b[K\n",
            "remote: Counting objects: 100% (58/58), done.\u001b[K\n",
            "remote: Compressing objects: 100% (37/37), done.\u001b[K\n",
            "remote: Total 58 (delta 16), reused 51 (delta 13), pack-reused 0\u001b[K\n",
            "Receiving objects: 100% (58/58), 47.27 KiB | 820.00 KiB/s, done.\n",
            "Resolving deltas: 100% (16/16), done.\n"
          ]
        }
      ],
      "source": [
        "!git clone https://github.com/nilesh2797/dexml"
      ]
    },
    {
      "cell_type": "code",
      "execution_count": null,
      "metadata": {
        "colab": {
          "base_uri": "https://localhost:8080/"
        },
        "id": "hxEbtwjOlLQv",
        "outputId": "12ea79b5-ba6a-4e1c-e122-917155496683"
      },
      "outputs": [
        {
          "name": "stdout",
          "output_type": "stream",
          "text": [
            "/content/dexml\n"
          ]
        }
      ],
      "source": [
        "%cd dexml"
      ]
    },
    {
      "cell_type": "code",
      "execution_count": null,
      "metadata": {
        "id": "UrwvbQ-Ll08q"
      },
      "outputs": [],
      "source": [
        "!pip install -r requirements.txt"
      ]
    },
    {
      "cell_type": "markdown",
      "metadata": {},
      "source": [
        "## Imports"
      ]
    },
    {
      "cell_type": "code",
      "execution_count": 15,
      "metadata": {
        "id": "2xfaCpjRSjmK"
      },
      "outputs": [
        {
          "name": "stderr",
          "output_type": "stream",
          "text": [
            "/home/nileshgupta_google_com/.conda/envs/xc/lib/python3.9/site-packages/tqdm/auto.py:22: TqdmWarning: IProgress not found. Please update jupyter and ipywidgets. See https://ipywidgets.readthedocs.io/en/stable/user_install.html\n",
            "  from .autonotebook import tqdm as notebook_tqdm\n"
          ]
        }
      ],
      "source": [
        "import sys, os, time, socket, yaml, wandb, logging, numpy as np\n",
        "import logging.config\n",
        "import scipy.sparse as sp\n",
        "from tqdm import tqdm\n",
        "\n",
        "import torch\n",
        "import torch.nn as nn\n",
        "import torch.nn.functional as F\n",
        "import transformers\n",
        "import matplotlib.pyplot as plt"
      ]
    },
    {
      "cell_type": "code",
      "execution_count": 120,
      "metadata": {
        "id": "T9WHXUy7Sz5R"
      },
      "outputs": [],
      "source": [
        "from nets import TFEncoder\n",
        "from datasets import DATA_MANAGERS\n",
        "from utils.helper_utils import load_config_and_runtime_args, compute_xmc_metrics\n",
        "from utils.nns_utils import ExactSearch"
      ]
    },
    {
      "cell_type": "markdown",
      "metadata": {},
      "source": [
        "## Download and process datasets"
      ]
    },
    {
      "cell_type": "code",
      "execution_count": 8,
      "metadata": {
        "id": "FbPF-VVhrCBJ"
      },
      "outputs": [],
      "source": [
        "import scipy.sparse as sp\n",
        "def to_scipy_matrix(lol_inds, num_cols):\n",
        "  cols = np.concatenate(lol_inds)\n",
        "  rows = np.concatenate([[i]*len(x) for i, x in enumerate(lol_inds)])\n",
        "  data = np.concatenate([[1.0]*len(x) for i, x in enumerate(lol_inds)])\n",
        "  return sp.coo_matrix((data, (rows, cols)), (len(lol_inds), num_cols)).tocsr()\n",
        "\n",
        "import pandas, gzip\n",
        "def process_lf_amazon_datasets(dataset):\n",
        "  print('Reading raw dataset files...')\n",
        "  trn_df = pandas.read_json(gzip.open(f'Datasets/{dataset}/trn.json.gz'), lines=True)\n",
        "  tst_df = pandas.read_json(gzip.open(f'Datasets/{dataset}/tst.json.gz'), lines=True)\n",
        "  lbl_df = pandas.read_json(gzip.open(f'Datasets/{dataset}/lbl.json.gz'), lines=True)\n",
        "\n",
        "  print('Processing Y (label) files...')\n",
        "  trn_X_Y = to_scipy_matrix(trn_df.target_ind.values, lbl_df.shape[0])\n",
        "  tst_X_Y = to_scipy_matrix(tst_df.target_ind.values, lbl_df.shape[0])\n",
        "\n",
        "  sp.save_npz(f'Datasets/{dataset}/Y.trn.npz', trn_X_Y)\n",
        "  sp.save_npz(f'Datasets/{dataset}/Y.tst.npz', tst_X_Y)\n",
        "\n",
        "  print('Processing X (input) files...')\n",
        "  print(*trn_df.title.apply(lambda x: x.strip()).values, sep='\\n', file=open(f'Datasets/{dataset}/raw/trn_X.txt', 'w'))\n",
        "  print(*tst_df.title.apply(lambda x: x.strip()).values, sep='\\n', file=open(f'Datasets/{dataset}/raw/tst_X.txt', 'w'))\n",
        "  print(*lbl_df.title.apply(lambda x: x.strip()).values, sep='\\n', file=open(f'Datasets/{dataset}/raw/Y.txt', 'w'))\n",
        "\n",
        "  print('Tokenizing X (input) files...')\n",
        "  max_len = 32 if 'titles' in dataset else 128\n",
        "  os.system(f\"python utils/tokenization_utils.py --data-path Datasets/{dataset}/raw/trn_X.txt --tf-max-len {max_len}\")\n",
        "  os.system(f\"python utils/tokenization_utils.py --data-path Datasets/{dataset}/raw/tst_X.txt --tf-max-len {max_len}\")\n",
        "  os.system(f\"python utils/tokenization_utils.py --data-path Datasets/{dataset}/raw/Y.txt --tf-max-len {max_len}\")"
      ]
    },
    {
      "cell_type": "markdown",
      "metadata": {},
      "source": [
        "### Eurlex-4K"
      ]
    },
    {
      "cell_type": "code",
      "execution_count": 16,
      "metadata": {},
      "outputs": [
        {
          "name": "stdout",
          "output_type": "stream",
          "text": [
            "Downloading...\n",
            "From (original): https://drive.google.com/uc?id=1A_sL_mzpkmnr6g0DSZ0_xJTr4GN-rIfi\n",
            "From (redirected): https://drive.google.com/uc?id=1A_sL_mzpkmnr6g0DSZ0_xJTr4GN-rIfi&confirm=t&uuid=270f3602-0ce6-40c5-bc39-6c0f457e4683\n",
            "To: /mnt/disks/disk2/nileshgupta/DEXML/Datasets/Eurlex-4K.tar.gz\n",
            "100%|████████████████████████████████████████| 157M/157M [00:04<00:00, 35.4MB/s]\n",
            "./Eurlex-4K/\n",
            "./Eurlex-4K/train_raw_texts.txt\n",
            "./Eurlex-4K/X.tst.npz\n",
            "./Eurlex-4K/X.tst.finetune.xlnet.npy\n",
            "./Eurlex-4K/X.trn.npz\n",
            "./Eurlex-4K/Y.trn.npz\n",
            "./Eurlex-4K/Y.tst.npz\n",
            "./Eurlex-4K/test_raw_texts.txt\n",
            "./Eurlex-4K/X.trn.finetune.xlnet.npy\n",
            "./Eurlex-4K/label_map.txt\n"
          ]
        }
      ],
      "source": [
        "!mkdir -p Datasets\n",
        "!cd Datasets; gdown 1A_sL_mzpkmnr6g0DSZ0_xJTr4GN-rIfi; tar -xvzf Eurlex-4K.tar.gz; mv Eurlex-4K EURLex-4K\n",
        "!cd Datasets/EURLex-4K; mkdir -p raw; mv train_raw_texts.txt raw/trn_X.txt; mv test_raw_texts.txt raw/tst_X.txt; mv label_map.txt raw/Y.txt"
      ]
    },
    {
      "cell_type": "code",
      "execution_count": 17,
      "metadata": {
        "colab": {
          "base_uri": "https://localhost:8080/"
        },
        "id": "XPrgbzKAfTUb",
        "outputId": "021a6f31-fce9-488d-c303-9587ce8d1e1c"
      },
      "outputs": [
        {
          "name": "stdout",
          "output_type": "stream",
          "text": [
            "Read 15449 lines\n",
            "Dumping tokenized file at Datasets/EURLex-4K/raw/trn_X.bert-base-uncased_128.dat...\n",
            "100%|█████████████████████████████████████████████| 1/1 [00:14<00:00, 14.29s/it]\n",
            "Finished tokenize_dump_memmap in 14.2963 secs\n",
            "Read 3865 lines\n",
            "Dumping tokenized file at Datasets/EURLex-4K/raw/tst_X.bert-base-uncased_128.dat...\n",
            "100%|█████████████████████████████████████████████| 1/1 [00:03<00:00,  3.77s/it]\n",
            "Finished tokenize_dump_memmap in 3.7781 secs\n",
            "Read 3956 lines\n",
            "Dumping tokenized file at Datasets/EURLex-4K/raw/Y.bert-base-uncased_128.dat...\n",
            "100%|█████████████████████████████████████████████| 1/1 [00:00<00:00,  7.25it/s]\n",
            "Finished tokenize_dump_memmap in 0.1408 secs\n"
          ]
        }
      ],
      "source": [
        "!python utils/tokenization_utils.py --data-path Datasets/EURLex-4K/raw/trn_X.txt --tf-max-len 128\n",
        "!python utils/tokenization_utils.py --data-path Datasets/EURLex-4K/raw/tst_X.txt --tf-max-len 128\n",
        "!python utils/tokenization_utils.py --data-path Datasets/EURLex-4K/raw/Y.txt --tf-max-len 128"
      ]
    },
    {
      "cell_type": "markdown",
      "metadata": {},
      "source": [
        "### LF-AmazonTitles-131K"
      ]
    },
    {
      "cell_type": "code",
      "execution_count": 9,
      "metadata": {
        "colab": {
          "base_uri": "https://localhost:8080/"
        },
        "id": "o9XWtnluH6T7",
        "outputId": "2862c05a-beca-498a-b77c-02d1ed670bc4"
      },
      "outputs": [
        {
          "name": "stdout",
          "output_type": "stream",
          "text": [
            "Downloading...\n",
            "From (original): https://drive.google.com/uc?id=1WuquxCAg8D4lKr-eZXPv4nNw2S2lm7_E\n",
            "From (redirected): https://drive.google.com/uc?id=1WuquxCAg8D4lKr-eZXPv4nNw2S2lm7_E&confirm=t&uuid=a28892c4-78c3-4762-a294-caec34754b78\n",
            "To: /home/nilesh/work/DEXML/Datasets/LF-Amazon-131K.raw.zip\n",
            "100%|████████████████████████████████████████| 245M/245M [00:02<00:00, 94.6MB/s]\n",
            "Archive:  LF-Amazon-131K.raw.zip\n",
            "   creating: LF-Amazon-131K/\n",
            "  inflating: LF-Amazon-131K/lbl.json.gz  \n",
            "  inflating: LF-Amazon-131K/trn.json.gz  \n",
            "  inflating: LF-Amazon-131K/filter_labels_test.txt  \n",
            "  inflating: LF-Amazon-131K/tst.json.gz  \n",
            "  inflating: LF-Amazon-131K/filter_labels_train.txt  \n"
          ]
        }
      ],
      "source": [
        "!mkdir -p Datasets\n",
        "!cd Datasets; gdown 1WuquxCAg8D4lKr-eZXPv4nNw2S2lm7_E;\n",
        "!cd Datasets; unzip LF-Amazon-131K.raw.zip; mv LF-Amazon-131K LF-AmazonTitles-131K; mkdir -p LF-AmazonTitles-131K/raw"
      ]
    },
    {
      "cell_type": "code",
      "execution_count": null,
      "metadata": {},
      "outputs": [],
      "source": [
        "process_lf_amazon_datasets('LF-AmazonTitles-131K')"
      ]
    },
    {
      "cell_type": "markdown",
      "metadata": {},
      "source": [
        "### LF-AmazonTitles-1.3M"
      ]
    },
    {
      "cell_type": "code",
      "execution_count": 21,
      "metadata": {
        "colab": {
          "base_uri": "https://localhost:8080/"
        },
        "id": "0wGtWItpuP1V",
        "outputId": "55353cb9-66ff-4eb6-9cd4-98373cb10fc9"
      },
      "outputs": [
        {
          "name": "stdout",
          "output_type": "stream",
          "text": [
            "Downloading...\n",
            "From (original): https://drive.google.com/uc?id=12zH4mL2RX8iSvH0VCNnd3QxO4DzuHWnK\n",
            "From (redirected): https://drive.google.com/uc?id=12zH4mL2RX8iSvH0VCNnd3QxO4DzuHWnK&confirm=t&uuid=391cf505-02cf-4591-8a96-37f829f9328e\n",
            "To: /home/nilesh/work/DEXML/Datasets/LF-Amazon-1.3M.raw.zip\n",
            "100%|████████████████████████████████████████| 890M/890M [00:13<00:00, 67.8MB/s]\n",
            "Archive:  LF-Amazon-1.3M.raw.zip\n",
            "   creating: LF-Amazon-1.3M/\n",
            "  inflating: LF-Amazon-1.3M/lbl.json.gz  \n",
            "  inflating: LF-Amazon-1.3M/trn.json.gz  \n",
            "  inflating: LF-Amazon-1.3M/filter_labels_test.txt  \n",
            "  inflating: LF-Amazon-1.3M/tst.json.gz  \n",
            "  inflating: LF-Amazon-1.3M/filter_labels_train.txt  \n"
          ]
        }
      ],
      "source": [
        "!mkdir -p Datasets\n",
        "!cd Datasets; gdown 12zH4mL2RX8iSvH0VCNnd3QxO4DzuHWnK;\n",
        "!cd Datasets; unzip LF-Amazon-1.3M.raw.zip; mv LF-Amazon-1.3M LF-AmazonTitles-1.3M; mkdir -p LF-AmazonTitles-1.3M/raw"
      ]
    },
    {
      "cell_type": "code",
      "execution_count": 22,
      "metadata": {},
      "outputs": [
        {
          "name": "stdout",
          "output_type": "stream",
          "text": [
            "Read 2248619 lines\n",
            "Dumping tokenized file at Datasets/LF-AmazonTitles-1.3M/raw/trn_X.bert-base-uncased_32.dat...\n"
          ]
        },
        {
          "name": "stderr",
          "output_type": "stream",
          "text": [
            "100%|██████████| 5/5 [00:41<00:00,  8.34s/it]\n"
          ]
        },
        {
          "name": "stdout",
          "output_type": "stream",
          "text": [
            "Finished tokenize_dump_memmap in 41.7673 secs\n",
            "Read 970237 lines\n",
            "Dumping tokenized file at Datasets/LF-AmazonTitles-1.3M/raw/tst_X.bert-base-uncased_32.dat...\n"
          ]
        },
        {
          "name": "stderr",
          "output_type": "stream",
          "text": [
            "100%|██████████| 2/2 [00:15<00:00,  7.57s/it]\n"
          ]
        },
        {
          "name": "stdout",
          "output_type": "stream",
          "text": [
            "Finished tokenize_dump_memmap in 15.1589 secs\n",
            "Read 1305265 lines\n",
            "Dumping tokenized file at Datasets/LF-AmazonTitles-1.3M/raw/Y.bert-base-uncased_32.dat...\n"
          ]
        },
        {
          "name": "stderr",
          "output_type": "stream",
          "text": [
            "100%|██████████| 3/3 [00:20<00:00,  6.89s/it]\n"
          ]
        },
        {
          "name": "stdout",
          "output_type": "stream",
          "text": [
            "Finished tokenize_dump_memmap in 20.7157 secs\n"
          ]
        }
      ],
      "source": [
        "process_lf_amazon_datasets('LF-AmazonTitles-1.3M')"
      ]
    },
    {
      "cell_type": "markdown",
      "metadata": {},
      "source": [
        "### LF-Wikipedia-500K"
      ]
    },
    {
      "cell_type": "code",
      "execution_count": 3,
      "metadata": {},
      "outputs": [
        {
          "name": "stdout",
          "output_type": "stream",
          "text": [
            "Downloading...\n",
            "From (original): https://drive.google.com/uc?id=10RBSf6nC9C38wUMwqWur2Yd8mCwtup5K\n",
            "From (redirected): https://drive.google.com/uc?id=10RBSf6nC9C38wUMwqWur2Yd8mCwtup5K&confirm=t&uuid=73438cf6-d88c-40b7-805c-d28ab8576112\n",
            "To: /mnt/disks/disk2/nileshgupta/DEXML/Datasets/LF-Wikipedia-500K/trn.raw.json.gz\n",
            "100%|██████████████████████████████████████| 5.29G/5.29G [01:53<00:00, 46.7MB/s]\n",
            "Downloading...\n",
            "From (original): https://drive.google.com/uc?id=1pEyKXtkwHhinuRxmARhtwEQ39VIughDf\n",
            "From (redirected): https://drive.google.com/uc?id=1pEyKXtkwHhinuRxmARhtwEQ39VIughDf&confirm=t&uuid=ffcdb80f-a49a-4e9e-812a-c0ef44a7ed0c\n",
            "To: /mnt/disks/disk2/nileshgupta/DEXML/Datasets/LF-Wikipedia-500K/tst.raw.json.gz\n",
            "100%|██████████████████████████████████████| 2.30G/2.30G [00:55<00:00, 41.1MB/s]\n",
            "Downloading...\n",
            "From: https://drive.google.com/uc?id=1ZYTZPlnkPBCMcNqRRO-gNx8EPgtV-GL3\n",
            "To: /mnt/disks/disk2/nileshgupta/DEXML/Datasets/LF-Wikipedia-500K/Yf.txt\n",
            "100%|██████████████████████████████████████| 33.7M/33.7M [00:00<00:00, 38.0MB/s]\n"
          ]
        }
      ],
      "source": [
        "!mkdir -p Datasets/LF-Wikipedia-500K\n",
        "!cd Datasets/LF-Wikipedia-500K; gdown 10RBSf6nC9C38wUMwqWur2Yd8mCwtup5K; gdown 1pEyKXtkwHhinuRxmARhtwEQ39VIughDf; gdown 1ZYTZPlnkPBCMcNqRRO-gNx8EPgtV-GL3;"
      ]
    },
    {
      "cell_type": "code",
      "execution_count": 10,
      "metadata": {},
      "outputs": [],
      "source": [
        "import pandas, gzip\n",
        "import numpy as np\n",
        "import re\n",
        "def preprocess(s):\n",
        "    return ' '.join([x for x in re.split(r\"[^a-zA-Z0-9.]\", s.lower()) if len(x) > 0])"
      ]
    },
    {
      "cell_type": "code",
      "execution_count": 11,
      "metadata": {},
      "outputs": [
        {
          "name": "stdout",
          "output_type": "stream",
          "text": [
            "Processing Y (label) files...\n",
            "Processing X (input) files...\n"
          ]
        }
      ],
      "source": [
        "dataset = 'LF-Wikipedia-500K'\n",
        "\n",
        "print('Reading raw dataset files...')\n",
        "trn_df = pandas.read_json(gzip.open(f'Datasets/{dataset}/trn.raw.json.gz'), lines=True)\n",
        "tst_df = pandas.read_json(gzip.open(f'Datasets/{dataset}/tst.raw.json.gz'), lines=True)\n",
        "Y = [preprocess(x.strip().split('->')[-1]) for x in open('Datasets/LF-Wikipedia-500K/Yf.txt')]\n",
        "\n",
        "print('Processing Y (label) files...')\n",
        "trn_X_Y = to_scipy_matrix(trn_df.target_ind.values, len(Y))\n",
        "tst_X_Y = to_scipy_matrix(tst_df.target_ind.values, len(Y))\n",
        "sp.save_npz(f'Datasets/{dataset}/Y.trn.npz', trn_X_Y)\n",
        "sp.save_npz(f'Datasets/{dataset}/Y.tst.npz', tst_X_Y)"
      ]
    },
    {
      "cell_type": "code",
      "execution_count": 115,
      "metadata": {},
      "outputs": [],
      "source": [
        "trn_df['text'] = trn_df.title + \" \" + trn_df.title + \" \" + trn_df.content\n",
        "tst_df['text'] = tst_df.title + \" \" + tst_df.title + \" \" + tst_df.content\n",
        "trn_df['text'] = trn_df['text'].apply(preprocess)\n",
        "tst_df['text'] = tst_df['text'].apply(preprocess)\n",
        "\n",
        "print('Processing X (input) files...')\n",
        "print(*trn_df.text.values, sep='\\n', file=open(f'Datasets/{dataset}/raw/trn_X.txt', 'w'))\n",
        "print(*tst_df.text.values, sep='\\n', file=open(f'Datasets/{dataset}/raw/tst_X.txt', 'w'))\n",
        "print(*Y, sep='\\n', file=open(f'Datasets/{dataset}/raw/Y.txt', 'w'))"
      ]
    },
    {
      "cell_type": "code",
      "execution_count": 117,
      "metadata": {},
      "outputs": [
        {
          "name": "stdout",
          "output_type": "stream",
          "text": [
            "Tokenizing X (input) files...\n"
          ]
        },
        {
          "name": "stdout",
          "output_type": "stream",
          "text": [
            "Read 1813391 lines\n",
            "Dumping tokenized file at Datasets/LF-Wikipedia-500K/raw/trn_X.bert-base-uncased_128.dat...\n",
            "100%|████████████████████████████████████████████| 4/4 [31:57<00:00, 479.45s/it]\n",
            "Finished tokenize_dump_memmap in 1919.5861 secs\n",
            "Read 783743 lines\n",
            "Dumping tokenized file at Datasets/LF-Wikipedia-500K/raw/tst_X.bert-base-uncased_128.dat...\n",
            "100%|████████████████████████████████████████████| 2/2 [14:59<00:00, 449.79s/it]\n",
            "Finished tokenize_dump_memmap in 900.0780 secs\n",
            "Read 501070 lines\n",
            "Dumping tokenized file at Datasets/LF-Wikipedia-500K/raw/Y.bert-base-uncased_128.dat...\n",
            "100%|█████████████████████████████████████████████| 2/2 [00:09<00:00,  5.00s/it]\n",
            "Finished tokenize_dump_memmap in 10.4635 secs\n"
          ]
        }
      ],
      "source": [
        "print('Tokenizing X (input) files...')\n",
        "!python utils/tokenization_utils.py --data-path Datasets/LF-Wikipedia-500K/raw/trn_X.txt --tf-max-len 128\n",
        "!python utils/tokenization_utils.py --data-path Datasets/LF-Wikipedia-500K/raw/tst_X.txt --tf-max-len 128\n",
        "!python utils/tokenization_utils.py --data-path Datasets/LF-Wikipedia-500K/raw/Y.txt --tf-max-len 128"
      ]
    },
    {
      "cell_type": "markdown",
      "metadata": {},
      "source": [
        "## Run DEXML"
      ]
    },
    {
      "cell_type": "code",
      "execution_count": 118,
      "metadata": {},
      "outputs": [],
      "source": [
        "dataset = 'LF-Wikipedia-500K'"
      ]
    },
    {
      "cell_type": "code",
      "execution_count": 121,
      "metadata": {
        "id": "KheoRH67S23t"
      },
      "outputs": [],
      "source": [
        "args = load_config_and_runtime_args(['', f'configs/{dataset}/dist-de-all_decoupled-softmax.yaml'])\n",
        "args.DATA_DIR = f'Datasets/{args.dataset}'\n",
        "args.OUT_DIR = f'Results/{args.dataset}/demo'\n",
        "os.makedirs(args.OUT_DIR, exist_ok=True)"
      ]
    },
    {
      "cell_type": "code",
      "execution_count": 122,
      "metadata": {
        "colab": {
          "base_uri": "https://localhost:8080/"
        },
        "id": "1BdTo8UfgctG",
        "outputId": "778e1ccc-a027-456e-cb84-8cd696ebe43b"
      },
      "outputs": [
        {
          "name": "stdout",
          "output_type": "stream",
          "text": [
            "neg_type: none\n"
          ]
        }
      ],
      "source": [
        "data_manager = DATA_MANAGERS[args.data_manager](args)\n",
        "trn_loader, val_loader, _ = data_manager.build_data_loaders()"
      ]
    },
    {
      "cell_type": "code",
      "execution_count": 127,
      "metadata": {
        "colab": {
          "base_uri": "https://localhost:8080/",
          "height": 81,
          "referenced_widgets": [
            "95338f20a5164b699edaf579a430cc54",
            "e4741a08ad77480e9d42576287efcb93",
            "f07cbdd821d64ab0933133d26b91ab83",
            "76e5f27337e24027a29e0a5ffcdcd861",
            "1941d599f97d4215bf66f88de1149c2b",
            "56b58ccaf9d240018bea763e51dfc023",
            "ebed5c1af6b24475989dc13c23827247",
            "d382975673ac4c809686f7009a2bf9c0",
            "508a72e53379497fa2e6b44430107bba",
            "cc438d62f43a42578c013626690f0bb8",
            "5d470eb0c4b6457c90c9f505018588b0",
            "36a14d9dd2a94948bdc6a13ef0078477",
            "8b3c59a9079241e994f24c3e05719dd8",
            "f4247a5c47ed4c97b47ca4f3298e9fca",
            "659c590f8f2c42e1b5f1c9a9b5d679d3",
            "cc4db368c5d24822a65e6338309efc9a",
            "13909684163744369036bb52da1bfd0d",
            "edeb33f8b5584f6e91f6e4e2b602d607",
            "a8aa663f7c814f8cb4c621ae91a9d433",
            "b93e93ee2b6f4cfe8a1b029e2927adaa",
            "16e12533895748098c0e9fe83fa84e0e",
            "164bc650560246a6bccb520bd7fbf5b2"
          ]
        },
        "id": "OXsgOHvRlZ0D",
        "outputId": "9cdb487a-0f59-4c01-d50d-6cec026a681e"
      },
      "outputs": [],
      "source": [
        "args.tf = f'quicktensor/dexml_{args.dataset.lower()}'\n",
        "net = TFEncoder(args)\n",
        "\n",
        "if torch.cuda.is_available():\n",
        "  net.to('cuda:0');"
      ]
    },
    {
      "cell_type": "code",
      "execution_count": 128,
      "metadata": {
        "colab": {
          "base_uri": "https://localhost:8080/"
        },
        "id": "aNj31XUph95i",
        "outputId": "0c09b953-911b-403f-a925-b8e41159bb32"
      },
      "outputs": [
        {
          "name": "stderr",
          "output_type": "stream",
          "text": [
            "Embedding: 100%|██████████████████████████████████████████████████████████████████████████████| 766/766 [01:47<00:00,  7.14it/s]\n",
            "Embedding: 100%|██████████████████████████████████████████████████████████████████████████████| 490/490 [00:10<00:00, 46.65it/s]\n"
          ]
        }
      ],
      "source": [
        "# reduce batch-size if OOM\n",
        "tst_embs = net.get_embs(val_loader.dataset.x_dataset, bsz=1024)\n",
        "lbl_embs = net.get_embs(val_loader.dataset.y_dataset, bsz=1024)"
      ]
    },
    {
      "cell_type": "code",
      "execution_count": 129,
      "metadata": {
        "colab": {
          "base_uri": "https://localhost:8080/"
        },
        "id": "K_4xaBsBidwM",
        "outputId": "7c7b224d-19a7-4b4c-f59e-56a662b4d4d4"
      },
      "outputs": [
        {
          "name": "stdout",
          "output_type": "stream",
          "text": [
            "Searching in 1 shards\n"
          ]
        },
        {
          "name": "stderr",
          "output_type": "stream",
          "text": [
            "Searching shard 1/1: 100%|██████████████████████████████████████████████████████████████████| 1531/1531 [01:00<00:00, 25.46it/s]\n"
          ]
        },
        {
          "name": "stdout",
          "output_type": "stream",
          "text": [
            "Total time, time per point : 61.91s, 0.0790 ms/pt\n"
          ]
        }
      ],
      "source": [
        "es = ExactSearch(lbl_embs, K=100, device='cuda:0')\n",
        "score_mat = es.search(tst_embs)"
      ]
    },
    {
      "cell_type": "code",
      "execution_count": 130,
      "metadata": {
        "colab": {
          "base_uri": "https://localhost:8080/"
        },
        "id": "S8GTiQ7rwkjx",
        "outputId": "9510c91b-dd50-49bb-c6ed-ccb350b2032c"
      },
      "outputs": [],
      "source": [
        "from utils.helper_utils import load_filter_mat, _filter\n",
        "if os.path.exists(f'Datasets/{args.dataset}/filter_labels_test.txt'):\n",
        "    print('Filtering predictions...')\n",
        "    filter_mat = load_filter_mat(f'Datasets/{args.dataset}/filter_labels_test.txt', val_loader.dataset.labels.shape)\n",
        "    _filter(score_mat, filter_mat, copy=False);"
      ]
    },
    {
      "cell_type": "code",
      "execution_count": 131,
      "metadata": {
        "colab": {
          "base_uri": "https://localhost:8080/",
          "height": 81
        },
        "id": "ykpF2wBxlolO",
        "outputId": "de2fac2c-2a32-4ea2-e6ab-d5dc13b38c8b"
      },
      "outputs": [
        {
          "data": {
            "text/html": [
              "<div>\n",
              "<style scoped>\n",
              "    .dataframe tbody tr th:only-of-type {\n",
              "        vertical-align: middle;\n",
              "    }\n",
              "\n",
              "    .dataframe tbody tr th {\n",
              "        vertical-align: top;\n",
              "    }\n",
              "\n",
              "    .dataframe thead th {\n",
              "        text-align: right;\n",
              "    }\n",
              "</style>\n",
              "<table border=\"1\" class=\"dataframe\">\n",
              "  <thead>\n",
              "    <tr style=\"text-align: right;\">\n",
              "      <th></th>\n",
              "      <th>P@1</th>\n",
              "      <th>P@3</th>\n",
              "      <th>P@5</th>\n",
              "      <th>nDCG@1</th>\n",
              "      <th>nDCG@3</th>\n",
              "      <th>nDCG@5</th>\n",
              "      <th>MRR@10</th>\n",
              "      <th>R@10</th>\n",
              "      <th>R@50</th>\n",
              "      <th>R@100</th>\n",
              "    </tr>\n",
              "  </thead>\n",
              "  <tbody>\n",
              "    <tr>\n",
              "      <th>Method</th>\n",
              "      <td>85.59</td>\n",
              "      <td>65.56</td>\n",
              "      <td>50.39</td>\n",
              "      <td>85.59</td>\n",
              "      <td>79.4</td>\n",
              "      <td>76.89</td>\n",
              "      <td>89.91</td>\n",
              "      <td>75.42</td>\n",
              "      <td>87.18</td>\n",
              "      <td>90.52</td>\n",
              "    </tr>\n",
              "  </tbody>\n",
              "</table>\n",
              "</div>"
            ],
            "text/plain": [
              "          P@1    P@3    P@5  nDCG@1  nDCG@3  nDCG@5  MRR@10   R@10   R@50  \\\n",
              "Method  85.59  65.56  50.39   85.59    79.4   76.89   89.91  75.42  87.18   \n",
              "\n",
              "        R@100  \n",
              "Method  90.52  "
            ]
          },
          "execution_count": 131,
          "metadata": {},
          "output_type": "execute_result"
        }
      ],
      "source": [
        "compute_xmc_metrics(score_mat, val_loader.dataset.labels, inv_prop=None, disp=False)"
      ]
    }
  ],
  "metadata": {
    "accelerator": "GPU",
    "colab": {
      "gpuType": "T4",
      "provenance": []
    },
    "kernelspec": {
      "display_name": "Python 3 (ipykernel)",
      "language": "python",
      "name": "python3"
    },
    "language_info": {
      "codemirror_mode": {
        "name": "ipython",
        "version": 3
      },
      "file_extension": ".py",
      "mimetype": "text/x-python",
      "name": "python",
      "nbconvert_exporter": "python",
      "pygments_lexer": "ipython3",
      "version": "3.9.13"
    },
    "widgets": {
      "application/vnd.jupyter.widget-state+json": {
        "13909684163744369036bb52da1bfd0d": {
          "model_module": "@jupyter-widgets/base",
          "model_module_version": "1.2.0",
          "model_name": "LayoutModel",
          "state": {
            "_model_module": "@jupyter-widgets/base",
            "_model_module_version": "1.2.0",
            "_model_name": "LayoutModel",
            "_view_count": null,
            "_view_module": "@jupyter-widgets/base",
            "_view_module_version": "1.2.0",
            "_view_name": "LayoutView",
            "align_content": null,
            "align_items": null,
            "align_self": null,
            "border": null,
            "bottom": null,
            "display": null,
            "flex": null,
            "flex_flow": null,
            "grid_area": null,
            "grid_auto_columns": null,
            "grid_auto_flow": null,
            "grid_auto_rows": null,
            "grid_column": null,
            "grid_gap": null,
            "grid_row": null,
            "grid_template_areas": null,
            "grid_template_columns": null,
            "grid_template_rows": null,
            "height": null,
            "justify_content": null,
            "justify_items": null,
            "left": null,
            "margin": null,
            "max_height": null,
            "max_width": null,
            "min_height": null,
            "min_width": null,
            "object_fit": null,
            "object_position": null,
            "order": null,
            "overflow": null,
            "overflow_x": null,
            "overflow_y": null,
            "padding": null,
            "right": null,
            "top": null,
            "visibility": null,
            "width": null
          }
        },
        "164bc650560246a6bccb520bd7fbf5b2": {
          "model_module": "@jupyter-widgets/controls",
          "model_module_version": "1.5.0",
          "model_name": "DescriptionStyleModel",
          "state": {
            "_model_module": "@jupyter-widgets/controls",
            "_model_module_version": "1.5.0",
            "_model_name": "DescriptionStyleModel",
            "_view_count": null,
            "_view_module": "@jupyter-widgets/base",
            "_view_module_version": "1.2.0",
            "_view_name": "StyleView",
            "description_width": ""
          }
        },
        "16e12533895748098c0e9fe83fa84e0e": {
          "model_module": "@jupyter-widgets/base",
          "model_module_version": "1.2.0",
          "model_name": "LayoutModel",
          "state": {
            "_model_module": "@jupyter-widgets/base",
            "_model_module_version": "1.2.0",
            "_model_name": "LayoutModel",
            "_view_count": null,
            "_view_module": "@jupyter-widgets/base",
            "_view_module_version": "1.2.0",
            "_view_name": "LayoutView",
            "align_content": null,
            "align_items": null,
            "align_self": null,
            "border": null,
            "bottom": null,
            "display": null,
            "flex": null,
            "flex_flow": null,
            "grid_area": null,
            "grid_auto_columns": null,
            "grid_auto_flow": null,
            "grid_auto_rows": null,
            "grid_column": null,
            "grid_gap": null,
            "grid_row": null,
            "grid_template_areas": null,
            "grid_template_columns": null,
            "grid_template_rows": null,
            "height": null,
            "justify_content": null,
            "justify_items": null,
            "left": null,
            "margin": null,
            "max_height": null,
            "max_width": null,
            "min_height": null,
            "min_width": null,
            "object_fit": null,
            "object_position": null,
            "order": null,
            "overflow": null,
            "overflow_x": null,
            "overflow_y": null,
            "padding": null,
            "right": null,
            "top": null,
            "visibility": null,
            "width": null
          }
        },
        "1941d599f97d4215bf66f88de1149c2b": {
          "model_module": "@jupyter-widgets/base",
          "model_module_version": "1.2.0",
          "model_name": "LayoutModel",
          "state": {
            "_model_module": "@jupyter-widgets/base",
            "_model_module_version": "1.2.0",
            "_model_name": "LayoutModel",
            "_view_count": null,
            "_view_module": "@jupyter-widgets/base",
            "_view_module_version": "1.2.0",
            "_view_name": "LayoutView",
            "align_content": null,
            "align_items": null,
            "align_self": null,
            "border": null,
            "bottom": null,
            "display": null,
            "flex": null,
            "flex_flow": null,
            "grid_area": null,
            "grid_auto_columns": null,
            "grid_auto_flow": null,
            "grid_auto_rows": null,
            "grid_column": null,
            "grid_gap": null,
            "grid_row": null,
            "grid_template_areas": null,
            "grid_template_columns": null,
            "grid_template_rows": null,
            "height": null,
            "justify_content": null,
            "justify_items": null,
            "left": null,
            "margin": null,
            "max_height": null,
            "max_width": null,
            "min_height": null,
            "min_width": null,
            "object_fit": null,
            "object_position": null,
            "order": null,
            "overflow": null,
            "overflow_x": null,
            "overflow_y": null,
            "padding": null,
            "right": null,
            "top": null,
            "visibility": null,
            "width": null
          }
        },
        "36a14d9dd2a94948bdc6a13ef0078477": {
          "model_module": "@jupyter-widgets/controls",
          "model_module_version": "1.5.0",
          "model_name": "HBoxModel",
          "state": {
            "_dom_classes": [],
            "_model_module": "@jupyter-widgets/controls",
            "_model_module_version": "1.5.0",
            "_model_name": "HBoxModel",
            "_view_count": null,
            "_view_module": "@jupyter-widgets/controls",
            "_view_module_version": "1.5.0",
            "_view_name": "HBoxView",
            "box_style": "",
            "children": [
              "IPY_MODEL_8b3c59a9079241e994f24c3e05719dd8",
              "IPY_MODEL_f4247a5c47ed4c97b47ca4f3298e9fca",
              "IPY_MODEL_659c590f8f2c42e1b5f1c9a9b5d679d3"
            ],
            "layout": "IPY_MODEL_cc4db368c5d24822a65e6338309efc9a"
          }
        },
        "508a72e53379497fa2e6b44430107bba": {
          "model_module": "@jupyter-widgets/controls",
          "model_module_version": "1.5.0",
          "model_name": "ProgressStyleModel",
          "state": {
            "_model_module": "@jupyter-widgets/controls",
            "_model_module_version": "1.5.0",
            "_model_name": "ProgressStyleModel",
            "_view_count": null,
            "_view_module": "@jupyter-widgets/base",
            "_view_module_version": "1.2.0",
            "_view_name": "StyleView",
            "bar_color": null,
            "description_width": ""
          }
        },
        "56b58ccaf9d240018bea763e51dfc023": {
          "model_module": "@jupyter-widgets/base",
          "model_module_version": "1.2.0",
          "model_name": "LayoutModel",
          "state": {
            "_model_module": "@jupyter-widgets/base",
            "_model_module_version": "1.2.0",
            "_model_name": "LayoutModel",
            "_view_count": null,
            "_view_module": "@jupyter-widgets/base",
            "_view_module_version": "1.2.0",
            "_view_name": "LayoutView",
            "align_content": null,
            "align_items": null,
            "align_self": null,
            "border": null,
            "bottom": null,
            "display": null,
            "flex": null,
            "flex_flow": null,
            "grid_area": null,
            "grid_auto_columns": null,
            "grid_auto_flow": null,
            "grid_auto_rows": null,
            "grid_column": null,
            "grid_gap": null,
            "grid_row": null,
            "grid_template_areas": null,
            "grid_template_columns": null,
            "grid_template_rows": null,
            "height": null,
            "justify_content": null,
            "justify_items": null,
            "left": null,
            "margin": null,
            "max_height": null,
            "max_width": null,
            "min_height": null,
            "min_width": null,
            "object_fit": null,
            "object_position": null,
            "order": null,
            "overflow": null,
            "overflow_x": null,
            "overflow_y": null,
            "padding": null,
            "right": null,
            "top": null,
            "visibility": null,
            "width": null
          }
        },
        "5d470eb0c4b6457c90c9f505018588b0": {
          "model_module": "@jupyter-widgets/controls",
          "model_module_version": "1.5.0",
          "model_name": "DescriptionStyleModel",
          "state": {
            "_model_module": "@jupyter-widgets/controls",
            "_model_module_version": "1.5.0",
            "_model_name": "DescriptionStyleModel",
            "_view_count": null,
            "_view_module": "@jupyter-widgets/base",
            "_view_module_version": "1.2.0",
            "_view_name": "StyleView",
            "description_width": ""
          }
        },
        "659c590f8f2c42e1b5f1c9a9b5d679d3": {
          "model_module": "@jupyter-widgets/controls",
          "model_module_version": "1.5.0",
          "model_name": "HTMLModel",
          "state": {
            "_dom_classes": [],
            "_model_module": "@jupyter-widgets/controls",
            "_model_module_version": "1.5.0",
            "_model_name": "HTMLModel",
            "_view_count": null,
            "_view_module": "@jupyter-widgets/controls",
            "_view_module_version": "1.5.0",
            "_view_name": "HTMLView",
            "description": "",
            "description_tooltip": null,
            "layout": "IPY_MODEL_16e12533895748098c0e9fe83fa84e0e",
            "placeholder": "​",
            "style": "IPY_MODEL_164bc650560246a6bccb520bd7fbf5b2",
            "value": " 265M/265M [00:04&lt;00:00, 57.9MB/s]"
          }
        },
        "76e5f27337e24027a29e0a5ffcdcd861": {
          "model_module": "@jupyter-widgets/controls",
          "model_module_version": "1.5.0",
          "model_name": "HTMLModel",
          "state": {
            "_dom_classes": [],
            "_model_module": "@jupyter-widgets/controls",
            "_model_module_version": "1.5.0",
            "_model_name": "HTMLModel",
            "_view_count": null,
            "_view_module": "@jupyter-widgets/controls",
            "_view_module_version": "1.5.0",
            "_view_name": "HTMLView",
            "description": "",
            "description_tooltip": null,
            "layout": "IPY_MODEL_cc438d62f43a42578c013626690f0bb8",
            "placeholder": "​",
            "style": "IPY_MODEL_5d470eb0c4b6457c90c9f505018588b0",
            "value": " 546/546 [00:00&lt;00:00, 32.7kB/s]"
          }
        },
        "8b3c59a9079241e994f24c3e05719dd8": {
          "model_module": "@jupyter-widgets/controls",
          "model_module_version": "1.5.0",
          "model_name": "HTMLModel",
          "state": {
            "_dom_classes": [],
            "_model_module": "@jupyter-widgets/controls",
            "_model_module_version": "1.5.0",
            "_model_name": "HTMLModel",
            "_view_count": null,
            "_view_module": "@jupyter-widgets/controls",
            "_view_module_version": "1.5.0",
            "_view_name": "HTMLView",
            "description": "",
            "description_tooltip": null,
            "layout": "IPY_MODEL_13909684163744369036bb52da1bfd0d",
            "placeholder": "​",
            "style": "IPY_MODEL_edeb33f8b5584f6e91f6e4e2b602d607",
            "value": "model.safetensors: 100%"
          }
        },
        "95338f20a5164b699edaf579a430cc54": {
          "model_module": "@jupyter-widgets/controls",
          "model_module_version": "1.5.0",
          "model_name": "HBoxModel",
          "state": {
            "_dom_classes": [],
            "_model_module": "@jupyter-widgets/controls",
            "_model_module_version": "1.5.0",
            "_model_name": "HBoxModel",
            "_view_count": null,
            "_view_module": "@jupyter-widgets/controls",
            "_view_module_version": "1.5.0",
            "_view_name": "HBoxView",
            "box_style": "",
            "children": [
              "IPY_MODEL_e4741a08ad77480e9d42576287efcb93",
              "IPY_MODEL_f07cbdd821d64ab0933133d26b91ab83",
              "IPY_MODEL_76e5f27337e24027a29e0a5ffcdcd861"
            ],
            "layout": "IPY_MODEL_1941d599f97d4215bf66f88de1149c2b"
          }
        },
        "a8aa663f7c814f8cb4c621ae91a9d433": {
          "model_module": "@jupyter-widgets/base",
          "model_module_version": "1.2.0",
          "model_name": "LayoutModel",
          "state": {
            "_model_module": "@jupyter-widgets/base",
            "_model_module_version": "1.2.0",
            "_model_name": "LayoutModel",
            "_view_count": null,
            "_view_module": "@jupyter-widgets/base",
            "_view_module_version": "1.2.0",
            "_view_name": "LayoutView",
            "align_content": null,
            "align_items": null,
            "align_self": null,
            "border": null,
            "bottom": null,
            "display": null,
            "flex": null,
            "flex_flow": null,
            "grid_area": null,
            "grid_auto_columns": null,
            "grid_auto_flow": null,
            "grid_auto_rows": null,
            "grid_column": null,
            "grid_gap": null,
            "grid_row": null,
            "grid_template_areas": null,
            "grid_template_columns": null,
            "grid_template_rows": null,
            "height": null,
            "justify_content": null,
            "justify_items": null,
            "left": null,
            "margin": null,
            "max_height": null,
            "max_width": null,
            "min_height": null,
            "min_width": null,
            "object_fit": null,
            "object_position": null,
            "order": null,
            "overflow": null,
            "overflow_x": null,
            "overflow_y": null,
            "padding": null,
            "right": null,
            "top": null,
            "visibility": null,
            "width": null
          }
        },
        "b93e93ee2b6f4cfe8a1b029e2927adaa": {
          "model_module": "@jupyter-widgets/controls",
          "model_module_version": "1.5.0",
          "model_name": "ProgressStyleModel",
          "state": {
            "_model_module": "@jupyter-widgets/controls",
            "_model_module_version": "1.5.0",
            "_model_name": "ProgressStyleModel",
            "_view_count": null,
            "_view_module": "@jupyter-widgets/base",
            "_view_module_version": "1.2.0",
            "_view_name": "StyleView",
            "bar_color": null,
            "description_width": ""
          }
        },
        "cc438d62f43a42578c013626690f0bb8": {
          "model_module": "@jupyter-widgets/base",
          "model_module_version": "1.2.0",
          "model_name": "LayoutModel",
          "state": {
            "_model_module": "@jupyter-widgets/base",
            "_model_module_version": "1.2.0",
            "_model_name": "LayoutModel",
            "_view_count": null,
            "_view_module": "@jupyter-widgets/base",
            "_view_module_version": "1.2.0",
            "_view_name": "LayoutView",
            "align_content": null,
            "align_items": null,
            "align_self": null,
            "border": null,
            "bottom": null,
            "display": null,
            "flex": null,
            "flex_flow": null,
            "grid_area": null,
            "grid_auto_columns": null,
            "grid_auto_flow": null,
            "grid_auto_rows": null,
            "grid_column": null,
            "grid_gap": null,
            "grid_row": null,
            "grid_template_areas": null,
            "grid_template_columns": null,
            "grid_template_rows": null,
            "height": null,
            "justify_content": null,
            "justify_items": null,
            "left": null,
            "margin": null,
            "max_height": null,
            "max_width": null,
            "min_height": null,
            "min_width": null,
            "object_fit": null,
            "object_position": null,
            "order": null,
            "overflow": null,
            "overflow_x": null,
            "overflow_y": null,
            "padding": null,
            "right": null,
            "top": null,
            "visibility": null,
            "width": null
          }
        },
        "cc4db368c5d24822a65e6338309efc9a": {
          "model_module": "@jupyter-widgets/base",
          "model_module_version": "1.2.0",
          "model_name": "LayoutModel",
          "state": {
            "_model_module": "@jupyter-widgets/base",
            "_model_module_version": "1.2.0",
            "_model_name": "LayoutModel",
            "_view_count": null,
            "_view_module": "@jupyter-widgets/base",
            "_view_module_version": "1.2.0",
            "_view_name": "LayoutView",
            "align_content": null,
            "align_items": null,
            "align_self": null,
            "border": null,
            "bottom": null,
            "display": null,
            "flex": null,
            "flex_flow": null,
            "grid_area": null,
            "grid_auto_columns": null,
            "grid_auto_flow": null,
            "grid_auto_rows": null,
            "grid_column": null,
            "grid_gap": null,
            "grid_row": null,
            "grid_template_areas": null,
            "grid_template_columns": null,
            "grid_template_rows": null,
            "height": null,
            "justify_content": null,
            "justify_items": null,
            "left": null,
            "margin": null,
            "max_height": null,
            "max_width": null,
            "min_height": null,
            "min_width": null,
            "object_fit": null,
            "object_position": null,
            "order": null,
            "overflow": null,
            "overflow_x": null,
            "overflow_y": null,
            "padding": null,
            "right": null,
            "top": null,
            "visibility": null,
            "width": null
          }
        },
        "d382975673ac4c809686f7009a2bf9c0": {
          "model_module": "@jupyter-widgets/base",
          "model_module_version": "1.2.0",
          "model_name": "LayoutModel",
          "state": {
            "_model_module": "@jupyter-widgets/base",
            "_model_module_version": "1.2.0",
            "_model_name": "LayoutModel",
            "_view_count": null,
            "_view_module": "@jupyter-widgets/base",
            "_view_module_version": "1.2.0",
            "_view_name": "LayoutView",
            "align_content": null,
            "align_items": null,
            "align_self": null,
            "border": null,
            "bottom": null,
            "display": null,
            "flex": null,
            "flex_flow": null,
            "grid_area": null,
            "grid_auto_columns": null,
            "grid_auto_flow": null,
            "grid_auto_rows": null,
            "grid_column": null,
            "grid_gap": null,
            "grid_row": null,
            "grid_template_areas": null,
            "grid_template_columns": null,
            "grid_template_rows": null,
            "height": null,
            "justify_content": null,
            "justify_items": null,
            "left": null,
            "margin": null,
            "max_height": null,
            "max_width": null,
            "min_height": null,
            "min_width": null,
            "object_fit": null,
            "object_position": null,
            "order": null,
            "overflow": null,
            "overflow_x": null,
            "overflow_y": null,
            "padding": null,
            "right": null,
            "top": null,
            "visibility": null,
            "width": null
          }
        },
        "e4741a08ad77480e9d42576287efcb93": {
          "model_module": "@jupyter-widgets/controls",
          "model_module_version": "1.5.0",
          "model_name": "HTMLModel",
          "state": {
            "_dom_classes": [],
            "_model_module": "@jupyter-widgets/controls",
            "_model_module_version": "1.5.0",
            "_model_name": "HTMLModel",
            "_view_count": null,
            "_view_module": "@jupyter-widgets/controls",
            "_view_module_version": "1.5.0",
            "_view_name": "HTMLView",
            "description": "",
            "description_tooltip": null,
            "layout": "IPY_MODEL_56b58ccaf9d240018bea763e51dfc023",
            "placeholder": "​",
            "style": "IPY_MODEL_ebed5c1af6b24475989dc13c23827247",
            "value": "config.json: 100%"
          }
        },
        "ebed5c1af6b24475989dc13c23827247": {
          "model_module": "@jupyter-widgets/controls",
          "model_module_version": "1.5.0",
          "model_name": "DescriptionStyleModel",
          "state": {
            "_model_module": "@jupyter-widgets/controls",
            "_model_module_version": "1.5.0",
            "_model_name": "DescriptionStyleModel",
            "_view_count": null,
            "_view_module": "@jupyter-widgets/base",
            "_view_module_version": "1.2.0",
            "_view_name": "StyleView",
            "description_width": ""
          }
        },
        "edeb33f8b5584f6e91f6e4e2b602d607": {
          "model_module": "@jupyter-widgets/controls",
          "model_module_version": "1.5.0",
          "model_name": "DescriptionStyleModel",
          "state": {
            "_model_module": "@jupyter-widgets/controls",
            "_model_module_version": "1.5.0",
            "_model_name": "DescriptionStyleModel",
            "_view_count": null,
            "_view_module": "@jupyter-widgets/base",
            "_view_module_version": "1.2.0",
            "_view_name": "StyleView",
            "description_width": ""
          }
        },
        "f07cbdd821d64ab0933133d26b91ab83": {
          "model_module": "@jupyter-widgets/controls",
          "model_module_version": "1.5.0",
          "model_name": "FloatProgressModel",
          "state": {
            "_dom_classes": [],
            "_model_module": "@jupyter-widgets/controls",
            "_model_module_version": "1.5.0",
            "_model_name": "FloatProgressModel",
            "_view_count": null,
            "_view_module": "@jupyter-widgets/controls",
            "_view_module_version": "1.5.0",
            "_view_name": "ProgressView",
            "bar_style": "success",
            "description": "",
            "description_tooltip": null,
            "layout": "IPY_MODEL_d382975673ac4c809686f7009a2bf9c0",
            "max": 546,
            "min": 0,
            "orientation": "horizontal",
            "style": "IPY_MODEL_508a72e53379497fa2e6b44430107bba",
            "value": 546
          }
        },
        "f4247a5c47ed4c97b47ca4f3298e9fca": {
          "model_module": "@jupyter-widgets/controls",
          "model_module_version": "1.5.0",
          "model_name": "FloatProgressModel",
          "state": {
            "_dom_classes": [],
            "_model_module": "@jupyter-widgets/controls",
            "_model_module_version": "1.5.0",
            "_model_name": "FloatProgressModel",
            "_view_count": null,
            "_view_module": "@jupyter-widgets/controls",
            "_view_module_version": "1.5.0",
            "_view_name": "ProgressView",
            "bar_style": "success",
            "description": "",
            "description_tooltip": null,
            "layout": "IPY_MODEL_a8aa663f7c814f8cb4c621ae91a9d433",
            "max": 265462608,
            "min": 0,
            "orientation": "horizontal",
            "style": "IPY_MODEL_b93e93ee2b6f4cfe8a1b029e2927adaa",
            "value": 265462608
          }
        }
      }
    }
  },
  "nbformat": 4,
  "nbformat_minor": 0
}
